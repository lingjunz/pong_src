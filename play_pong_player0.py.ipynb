{
 "cells": [
  {
   "cell_type": "code",
   "execution_count": 1,
   "metadata": {},
   "outputs": [],
   "source": [
    "from configs import INF,SEED\n",
    "import random\n",
    "random.seed(SEED)\n",
    "import numpy as np\n",
    "np.random.seed(SEED)"
   ]
  },
  {
   "cell_type": "code",
   "execution_count": null,
   "metadata": {},
   "outputs": [],
   "source": [
    "from utils.pong_utils import make_dirs,test\n",
    "from datetime import datetime\n",
    "from shutil import copyfile\n"
   ]
  },
  {
   "cell_type": "code",
   "execution_count": null,
   "metadata": {},
   "outputs": [],
   "source": [
    "\n",
    "memo = \"pong\"\n",
    "hyper_weights = [0.0, -0.1, 0.0, 1, 0, 10, False, True, False] # whitebox\n",
    "_hyper_weights_index = 111\n",
    "player_index = 0\n",
    "test_model_file = None\n",
    "seed = 2999\n",
    "x_method =None\n",
    "mimic_model_path = None\n",
    "save_victim_traj = 1\n",
    "save_trajectory = 1\n",
    "\n",
    "dir_dict= {\n",
    "        \"tb\": \"Log/{}-{}/tb/\".format(memo,date_time),\n",
    "        \"model\": \"Log/{}-{}/model/\".format(memo, date_time),\n",
    "        \"log\": \"Log/{}-{}/\".format(memo,date_time),\n",
    "        \"_hyper_weights\": hyper_weights,\n",
    "        \"_hyper_weights_index\": hyper_weights_index,\n",
    "        \"_video\": False,\n",
    "        \"_player_index\": player_index,\n",
    "        \"_test_model_file\": test_model_file,\n",
    "\n",
    "        ## whether black box or attention\n",
    "        \"_black_box\": hyper_weights[-3],\n",
    "        \"_attention\": hyper_weights[-2],\n",
    "        \"_clipped_attention\": hyper_weights[-1],\n",
    "        \"_seed\": seed,\n",
    "        \"_x_method\": x_method,\n",
    "        \"_mimic_model_path\": mimic_model_path,\n",
    "        \"_save_victim_traj\": save_victim_traj,\n",
    "        \"_save_trajectory\": save_trajectory\n",
    "    }\n",
    "now = datetime.now()\n",
    "date_time = now.strftime(\"%m%d%Y-%H%M%S\")"
   ]
  }
 ],
 "metadata": {
  "kernelspec": {
   "display_name": "pong",
   "language": "python",
   "name": "pong"
  },
  "language_info": {
   "codemirror_mode": {
    "name": "ipython",
    "version": 3
   },
   "file_extension": ".py",
   "mimetype": "text/x-python",
   "name": "python",
   "nbconvert_exporter": "python",
   "pygments_lexer": "ipython3",
   "version": "3.6.10"
  }
 },
 "nbformat": 4,
 "nbformat_minor": 4
}
